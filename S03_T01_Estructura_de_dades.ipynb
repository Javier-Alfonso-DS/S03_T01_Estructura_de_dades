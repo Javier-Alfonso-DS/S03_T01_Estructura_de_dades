{
  "nbformat": 4,
  "nbformat_minor": 0,
  "metadata": {
    "colab": {
      "name": "S03 T01: Estructura de dades.ipynb",
      "provenance": [],
      "authorship_tag": "ABX9TyO9nC3+foeZSuHpXLcwC06f",
      "include_colab_link": true
    },
    "kernelspec": {
      "name": "python3",
      "display_name": "Python 3"
    },
    "language_info": {
      "name": "python"
    }
  },
  "cells": [
    {
      "cell_type": "markdown",
      "metadata": {
        "id": "view-in-github",
        "colab_type": "text"
      },
      "source": [
        "<a href=\"https://colab.research.google.com/github/Javier-Alfonso-DS/S03_T01_Estructura_de_dades.ipynb/blob/main/S03_T01_Estructura_de_dades.ipynb\" target=\"_parent\"><img src=\"https://colab.research.google.com/assets/colab-badge.svg\" alt=\"Open In Colab\"/></a>"
      ]
    },
    {
      "cell_type": "markdown",
      "metadata": {
        "id": "c_IusjudFUDQ"
      },
      "source": [
        "# - Exercici 1\n",
        "\n",
        "Crea una llista que agrupi els mesos de l’any en trimestres (1T: Gener, Febrer i Març, 2T: Abril, Maig, Juny...), és a dir, una llista amb 4 llistes dins."
      ]
    },
    {
      "cell_type": "code",
      "metadata": {
        "id": "HsjC_x27Fdjp"
      },
      "source": [
        "MesosAny = [[\"Gener\",\"Febrer\",\"Març\"],[\"Abril\",\"Maig\",\"Juny\"],[\"Juliol\",\"Agost\",\"Setembre\"],[\"Octubre\",\"Novembre\",\"Desembre\"]]"
      ],
      "execution_count": null,
      "outputs": []
    },
    {
      "cell_type": "markdown",
      "metadata": {
        "id": "Uov6u6euGis1"
      },
      "source": [
        "# - Exercici 2\n",
        "Crea un codi que et permeti accedir a:\n",
        "\n",
        "* El segon mes del primer trimestre\n",
        "* Els mesos del primer trimestre\n",
        "* Setembre i octubre"
      ]
    },
    {
      "cell_type": "code",
      "metadata": {
        "colab": {
          "base_uri": "https://localhost:8080/"
        },
        "id": "y81oZ_5HGmsT",
        "outputId": "70a4bdeb-5e65-4855-b608-ba77d277fdb3"
      },
      "source": [
        "print(\"El segon mes del primer trimestre es\",MesosAny[0][1])\n",
        "print(\"Els mesos del primer trimestre son\", MesosAny[0])\n",
        "print(\"Els mesos Setembre i Octubre son:\", MesosAny[2][2],MesosAny[3][0])\n",
        "\n",
        "\n"
      ],
      "execution_count": null,
      "outputs": [
        {
          "output_type": "stream",
          "name": "stdout",
          "text": [
            "El segon mes del primer trimestre es Febrer\n",
            "Els mesos del primer trimestre son ['Gener', 'Febrer', 'Març']\n",
            "Els mesos Setembre i Octubre son: Setembre Octubre\n"
          ]
        }
      ]
    },
    {
      "cell_type": "markdown",
      "metadata": {
        "id": "VSZZLvgVGoGl"
      },
      "source": [
        "#- Exercici 3\n",
        "Crea una llista amb nombres desordenats i respon a les següents preguntes:\n",
        "\n",
        "* Quants números hi ha?\n",
        "* Quantes vegades apareix el número 3\n",
        "* Quantes vegades apareixen els nombres 3 i 4?\n",
        "* Quin és el número més gran?\n",
        "* Quins són els 3 números més petits?\n",
        "* Quin és el rang d’aquesta llista?"
      ]
    },
    {
      "cell_type": "code",
      "metadata": {
        "colab": {
          "base_uri": "https://localhost:8080/"
        },
        "id": "U0_YLdKpG7rb",
        "outputId": "1b0a8fef-4ebc-4314-8ba1-2945769ca115"
      },
      "source": [
        "Numeros = [3,7,2,1,326,580,634,22,789,4,1122,68,3,211,79,56,990,423,12,4,789,898,1]\n",
        "Numeros3 = [x for x in Numeros if x==3]\n",
        "print(\"El número 3 apareix\",len(Numeros3),\"vegades\")\n",
        "print(\"Els nombres 3 i 4 apareixen\",len([x for x in Numeros if x==3 or x==4]),\"vegades\")\n",
        "print(\"El número més gran es\",max(Numeros))\n",
        "a = min(Numeros)\n",
        "output=\"Els 3 números més petits son \" + str(a)\n",
        "NumerosWork = Numeros.copy()\n",
        "NumerosWork.remove(a)\n",
        "b = min(NumerosWork)\n",
        "output = output + \", \" + str(b)\n",
        "NumerosWork.remove(b)\n",
        "c = min(NumerosWork)\n",
        "output = output + \", \" + str(c)\n",
        "NumerosWork.remove(c)\n",
        "print(output)\n",
        "#El rang suposem que vol dir la longitut de la llista\n",
        "print(\"El rang d'aquesta llista es\",len(Numeros))\n",
        "\n"
      ],
      "execution_count": null,
      "outputs": [
        {
          "output_type": "stream",
          "name": "stdout",
          "text": [
            "El número 3 apareix 2 vegades\n",
            "Els nombres 3 i 4 apareixen 4 vegades\n",
            "El número més gran es 1122\n",
            "Els 3 números més petits son 1, 1, 2\n",
            "El rang d'aquesta llista es 23\n"
          ]
        }
      ]
    },
    {
      "cell_type": "markdown",
      "metadata": {
        "id": "OmxfBw-GG8Bp"
      },
      "source": [
        "# - Exercici 4\n",
        "Crea un diccionari de la següent forma i respon a les preguntes:\n",
        "\n",
        "compra = { \"Pomes\" : {\"Qty\": 5, \"€\": 0.42}, \"Peres\" : {\"Qty\": 3, \"€\": 0.66} }\n",
        "\n",
        "* Afegeix alguna fruita més\n",
        "* Quant han costat les peres en total?\n",
        "* Quantes fruites hem comprat en total?\n",
        "* Quina és la fruita més cara?\n",
        "\n",
        "\n"
      ]
    },
    {
      "cell_type": "code",
      "metadata": {
        "id": "_8ZMroaQHHZN"
      },
      "source": [
        "compra = {\"Pomes\" : {\"Qty\": 5, \"€\": 0.42}, \"Peres\" : {\"Qty\": 3, \"€\": 1.66} }"
      ],
      "execution_count": null,
      "outputs": []
    },
    {
      "cell_type": "code",
      "metadata": {
        "id": "JRpr2gx0sGql",
        "colab": {
          "base_uri": "https://localhost:8080/"
        },
        "outputId": "e9fb251b-7650-47ee-e144-b41c839ed2d6"
      },
      "source": [
        "compra[\"Plàtans\"]={\"Qty\":4,\"€\": 1.88}\n",
        "print(\"Afegim fruita nova\",compra)"
      ],
      "execution_count": null,
      "outputs": [
        {
          "output_type": "stream",
          "name": "stdout",
          "text": [
            "Afegim fruita nova {'Pomes': {'Qty': 5, '€': 0.42}, 'Peres': {'Qty': 3, '€': 1.66}, 'Plàtans': {'Qty': 4, '€': 1.88}}\n"
          ]
        }
      ]
    },
    {
      "cell_type": "code",
      "metadata": {
        "colab": {
          "base_uri": "https://localhost:8080/"
        },
        "id": "NptmEzP90N7H",
        "outputId": "d20bc2e4-dfa1-4e34-86e1-6b971bf18089"
      },
      "source": [
        "print(\"Les peres costen en total\",compra[\"Peres\"][\"Qty\"]*compra[\"Peres\"][\"€\"])"
      ],
      "execution_count": null,
      "outputs": [
        {
          "output_type": "stream",
          "name": "stdout",
          "text": [
            "Les peres costen en total 1.98\n"
          ]
        }
      ]
    },
    {
      "cell_type": "code",
      "metadata": {
        "colab": {
          "base_uri": "https://localhost:8080/"
        },
        "id": "rr50drE92raw",
        "outputId": "106a9929-a9cb-4995-fdf7-ce273a687a63"
      },
      "source": [
        "print(\"Hem comprat un total de:\",len(compra),\"fruites\")\n",
        "print(compra)"
      ],
      "execution_count": null,
      "outputs": [
        {
          "output_type": "stream",
          "name": "stdout",
          "text": [
            "Hem comprat un total de: 3 fruites\n"
          ]
        }
      ]
    },
    {
      "cell_type": "code",
      "metadata": {
        "colab": {
          "base_uri": "https://localhost:8080/"
        },
        "id": "tkhsbmo-3GG7",
        "outputId": "c8750f0c-8058-406f-b97e-536765d184a7"
      },
      "source": [
        "print(\"La fruita més cara es\",max(compra.keys(), key = lambda x:compra[x]['€']))"
      ],
      "execution_count": null,
      "outputs": [
        {
          "output_type": "stream",
          "name": "stdout",
          "text": [
            "La fruita més cara es Plàtans\n"
          ]
        }
      ]
    },
    {
      "cell_type": "code",
      "metadata": {
        "id": "g6HWkkNFAM__"
      },
      "source": [
        ""
      ],
      "execution_count": null,
      "outputs": []
    }
  ]
}